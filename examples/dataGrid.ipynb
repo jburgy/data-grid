{
 "cells": [
  {
   "cell_type": "code",
   "execution_count": null,
   "id": "d956623b-aafd-4d03-9cc0-92090f266297",
   "metadata": {},
   "outputs": [],
   "source": [
    "import pandas as pd\n",
    "# from pyodide.http import pyfetch\n",
    "\n",
    "# response = await pyfetch(\"https://data.cityofnewyork.us/resource/uvbq-3m68.json\")\n",
    "# df = pd.json_normalize(await response.json())\n",
    "df = pd.read_json(\"https://data.cityofnewyork.us/resource/uvbq-3m68.json\")\n",
    "cols = df.columns\n",
    "df.melt(\n",
    "    id_vars=cols[~cols.str.endswith(\"_amount\")],\n",
    "    value_vars=cols[cols.str.endswith(\"_amount\")],\n",
    "    var_name=\"amount_type\",\n",
    ").assign(\n",
    "    summons_image=lambda df: df[\"summons_image\"].str[\"url\"],\n",
    "    amount_type=lambda df: df[\"amount_type\"].replace(\"_amount$\", \"\"),\n",
    ")"
   ]
  },
  {
   "cell_type": "code",
   "execution_count": null,
   "id": "759e28e7-56ed-44b5-9c77-d67642f6b0ac",
   "metadata": {},
   "outputs": [],
   "source": [
    "import data_grid\n",
    "\n",
    "data_grid.DataGridWidget(table=\"violations\", db=\"example\")"
   ]
  }
 ],
 "metadata": {
  "kernelspec": {
   "display_name": "Python 3 (ipykernel)",
   "language": "python",
   "name": "python3"
  },
  "language_info": {
   "codemirror_mode": {
    "name": "ipython",
    "version": 3
   },
   "file_extension": ".py",
   "mimetype": "text/x-python",
   "name": "python",
   "nbconvert_exporter": "python",
   "pygments_lexer": "ipython3",
   "version": "3.13.7"
  }
 },
 "nbformat": 4,
 "nbformat_minor": 5
}
