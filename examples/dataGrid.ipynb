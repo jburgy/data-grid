{
 "cells": [
  {
   "cell_type": "code",
   "execution_count": null,
   "id": "d956623b-aafd-4d03-9cc0-92090f266297",
   "metadata": {},
   "outputs": [],
   "source": [
    "import sqlite3\n",
    "\n",
    "import pandas as pd\n",
    "\n",
    "df = pd.read_json(\"https://data.cityofnewyork.us/resource/uvbq-3m68.json\")\n",
    "cols = df.columns\n",
    "\n",
    "with sqlite3.connect(\"example.db\") as conn:\n",
    "    df.melt(\n",
    "        id_vars=cols[~cols.str.endswith(\"_amount\")],\n",
    "        value_vars=cols[cols.str.endswith(\"_amount\")],\n",
    "        var_name=\"amount_type\",\n",
    "    ).assign(\n",
    "        summons_image=lambda df: df[\"summons_image\"].str[\"url\"],\n",
    "        amount_type=lambda df: df[\"amount_type\"].replace(\"_amount$\", \"\"),\n",
    "    ).to_sql(\"violations\", conn)"
   ]
  },
  {
   "cell_type": "code",
   "execution_count": null,
   "id": "759e28e7-56ed-44b5-9c77-d67642f6b0ac",
   "metadata": {},
   "outputs": [],
   "source": [
    "import data_grid\n",
    "\n",
    "dg = data_grid.DataGridWidget(table=\"violations\", db=\"example\", source=\"/api/contents/examples/example.db\")\n",
    "dg.row_axis = ['license_type']\n",
    "dg.col_axis = ['amount_type']\n",
    "dg"
   ]
  }
 ],
 "metadata": {
  "kernelspec": {
   "display_name": "Python 3 (ipykernel)",
   "language": "python",
   "name": "python3"
  },
  "language_info": {
   "codemirror_mode": {
    "name": "ipython",
    "version": 3
   },
   "file_extension": ".py",
   "mimetype": "text/x-python",
   "name": "python",
   "nbconvert_exporter": "python",
   "pygments_lexer": "ipython3",
   "version": "3.13.4"
  }
 },
 "nbformat": 4,
 "nbformat_minor": 5
}
